{
 "cells": [
  {
   "cell_type": "code",
   "execution_count": 2,
   "metadata": {},
   "outputs": [
    {
     "name": "stdout",
     "output_type": "stream",
     "text": [
      "Note: you may need to restart the kernel to use updated packages.\n"
     ]
    }
   ],
   "source": [
    "pip install -q requests pandas openai datasets transformers torch faiss-cpu"
   ]
  },
  {
   "cell_type": "code",
   "execution_count": 1,
   "metadata": {},
   "outputs": [
    {
     "name": "stderr",
     "output_type": "stream",
     "text": [
      "/Users/jonsaadfalcon/Documents/AI_Sys/ARES/.venv/lib/python3.9/site-packages/urllib3/__init__.py:35: NotOpenSSLWarning: urllib3 v2 only supports OpenSSL 1.1.1+, currently the 'ssl' module is compiled with 'LibreSSL 2.8.3'. See: https://github.com/urllib3/urllib3/issues/3020\n",
      "  warnings.warn(\n",
      "/Users/jonsaadfalcon/Documents/AI_Sys/ARES/.venv/lib/python3.9/site-packages/tqdm/auto.py:21: TqdmWarning: IProgress not found. Please update jupyter and ipywidgets. See https://ipywidgets.readthedocs.io/en/stable/user_install.html\n",
      "  from .autonotebook import tqdm as notebook_tqdm\n"
     ]
    }
   ],
   "source": [
    "\n",
    "from aura import AuRA \n",
    "import pandas as pd\n",
    "import os\n",
    "\n",
    "#######################################################\n",
    "\n",
    "# Configs\n",
    "\n",
    "gpt_and_ada_config = {\n",
    "\n",
    "    \"rag_name\": \"gpt_3.5_and_ada\",\n",
    "    \"retriever_config\": {\n",
    "        \"retrieval_model\": \"text-embedding-ada-002\",\n",
    "        \"documents\": \"../data/example_files/document_filepath.tsv\",\n",
    "        \"max_doc_length\": 8192,\n",
    "        \"max_query_length\": 8192,\n",
    "        \"tokenizer\": None,\n",
    "        \"reranker\": None,\n",
    "        \"top_k\": 3\n",
    "    },\n",
    "    \"generation_llm_config\": {\n",
    "        \"generation_llm\": \"gpt-3.5-turbo-0125\",\n",
    "        \"temperature\": 0.0,\n",
    "        \"few_shot_prompt\": \"\",\n",
    "        \"system_prompt\": \"You are an expert question-answering system. Answer the following query by using the information in the given documents.\"\n",
    "    }\n",
    "}\n",
    "\n",
    "rag_configs = [gpt_and_ada_config]\n",
    "ares = \"placeholder\"\n",
    "evaluation_metrics = [\"Context_Relevance\", \"Answer_Relevance\"]\n",
    "\n",
    "#######################################################\n",
    "\n",
    "aura = AuRA(rag_configs, ares, evaluation_metrics)\n",
    "\n",
    "\n"
   ]
  },
  {
   "cell_type": "code",
   "execution_count": 2,
   "metadata": {},
   "outputs": [
    {
     "name": "stdout",
     "output_type": "stream",
     "text": [
      "Evaluating gpt_3.5_and_ada\n",
      "Loading documents...\n"
     ]
    },
    {
     "name": "stderr",
     "output_type": "stream",
     "text": [
      "Generating embeddings...: 100%|██████████| 6/6 [00:01<00:00,  3.14it/s]\n",
      "100%|██████████| 1/1 [00:00<00:00, 5777.28it/s]\n",
      "  0%|          | 0/6 [00:00<?, ?it/s]"
     ]
    },
    {
     "ename": "",
     "evalue": "",
     "output_type": "error",
     "traceback": [
      "\u001b[1;31mThe Kernel crashed while executing code in the current cell or a previous cell. \n",
      "\u001b[1;31mPlease review the code in the cell(s) to identify a possible cause of the failure. \n",
      "\u001b[1;31mClick <a href='https://aka.ms/vscodeJupyterKernelCrash'>here</a> for more info. \n",
      "\u001b[1;31mView Jupyter <a href='command:jupyter.viewOutput'>log</a> for further details."
     ]
    }
   ],
   "source": [
    "os.environ[\"OPENAI_API_KEY\"] = \"\"\n",
    "\n",
    "queries_filepath = \"../data/example_files/evaluation_datasets.tsv\"\n",
    "queries_dataframe = pd.read_csv(queries_filepath, sep=\"\\t\")\n",
    "\n",
    "aura.find_best_rag_system(queries_dataframe=queries_dataframe)"
   ]
  },
  {
   "cell_type": "code",
   "execution_count": null,
   "metadata": {},
   "outputs": [],
   "source": []
  }
 ],
 "metadata": {
  "kernelspec": {
   "display_name": "Python 3",
   "language": "python",
   "name": "python3"
  },
  "language_info": {
   "codemirror_mode": {
    "name": "ipython",
    "version": 3
   },
   "file_extension": ".py",
   "mimetype": "text/x-python",
   "name": "python",
   "nbconvert_exporter": "python",
   "pygments_lexer": "ipython3",
   "version": "3.9.6"
  }
 },
 "nbformat": 4,
 "nbformat_minor": 2
}
